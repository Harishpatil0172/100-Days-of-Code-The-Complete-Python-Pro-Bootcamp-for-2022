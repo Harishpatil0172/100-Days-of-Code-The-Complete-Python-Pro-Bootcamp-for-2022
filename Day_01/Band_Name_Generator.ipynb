{
  "nbformat": 4,
  "nbformat_minor": 0,
  "metadata": {
    "colab": {
      "name": "Band_Name_Generator.ipynb",
      "provenance": []
    },
    "kernelspec": {
      "name": "python3",
      "display_name": "Python 3"
    },
    "language_info": {
      "name": "python"
    }
  },
  "cells": [
    {
      "cell_type": "code",
      "metadata": {
        "colab": {
          "base_uri": "https://localhost:8080/"
        },
        "id": "HfDFmQ62lKU-",
        "outputId": "124f779d-beb4-4cbb-c672-d1090920818c"
      },
      "source": [
        "print(\"Welcome to the Band Name Generator.\")\n",
        "street = input(\"What's name of the city you grew up in?\\n\")\n",
        "pet = input(\"What's your pet's name?\\n\")\n",
        "print(\"Your band name could be \" + street + \" \" + pet)"
      ],
      "execution_count": 1,
      "outputs": [
        {
          "output_type": "stream",
          "name": "stdout",
          "text": [
            "Welcome to the Band Name Generator.\n",
            "What's name of the city you grew up in?\n",
            "Jalgaon\n",
            "What's your pet's name?\n",
            "Jimmy\n",
            "Your band name could be Jalgaon Jimmy\n"
          ]
        }
      ]
    }
  ]
}